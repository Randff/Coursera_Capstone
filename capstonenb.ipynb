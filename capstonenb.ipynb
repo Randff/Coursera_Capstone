# Coursera Capstone Project¶ 
#Create Jupyter Notebook for Capstone project work
# this notebook will be mainly used for the capstone project.
import pandas as pd
import numpy as np
print("Hello Capstone Project Course!")

